{
  "nbformat": 4,
  "nbformat_minor": 0,
  "metadata": {
    "colab": {
      "provenance": []
    },
    "kernelspec": {
      "name": "python3",
      "display_name": "Python 3"
    },
    "language_info": {
      "name": "python"
    }
  },
  "cells": [
    {
      "cell_type": "code",
      "execution_count": null,
      "metadata": {
        "id": "b8eZPOWNTSu9"
      },
      "outputs": [],
      "source": [
        "!pip install boto3\n",
        "!pip install python-dotenv"
      ]
    },
    {
      "cell_type": "code",
      "source": [
        "from dotenv import load_dotenv\n",
        "import os\n",
        "\n",
        "load_dotenv(dotenv_path=\"/content/env\")"
      ],
      "metadata": {
        "id": "qpBRoXsVTfc5"
      },
      "execution_count": null,
      "outputs": []
    },
    {
      "cell_type": "code",
      "source": [
        "import os\n",
        "import torch\n",
        "from torch.utils.data import Dataset, DataLoader\n",
        "from diffusers import DiffusionPipeline, DPMSolverMultistepScheduler\n",
        "from peft import LoraConfig, get_peft_model\n",
        "from tqdm import tqdm\n",
        "import boto3\n",
        "import tempfile\n",
        "import random"
      ],
      "metadata": {
        "id": "doJH-JsMTtcY"
      },
      "execution_count": null,
      "outputs": []
    },
    {
      "cell_type": "code",
      "source": [
        "# ==== Step 3.5: 从 S3 下载上一次 3 epoch 的 checkpoint ====\n",
        "s3 = boto3.client(\n",
        "    's3',\n",
        "    aws_access_key_id=os.getenv(\"AWS_ACCESS_KEY_ID\"),\n",
        "    aws_secret_access_key=os.getenv(\"AWS_SECRET_ACCESS_KEY\")\n",
        ")\n",
        "s3_bucket = \"data298youcook2\"\n",
        "s3_key = \"ModelScope_T2V_finetuned/lora_unet_2epoch.pt\"\n",
        "resume_path = \"checkpoints/lora_unet_2epoch.pt\"\n",
        "\n",
        "if not os.path.exists(resume_path):\n",
        "    os.makedirs(\"checkpoints\", exist_ok=True)\n",
        "    #print(\" Downloading lora_16frames.pt from S3...\")\n",
        "    s3.download_file(s3_bucket, s3_key, resume_path)\n",
        "    print(\" Download complete.\")"
      ],
      "metadata": {
        "id": "sPSo6nX8Tz6r"
      },
      "execution_count": null,
      "outputs": []
    },
    {
      "cell_type": "code",
      "source": [
        "from diffusers import DiffusionPipeline, DPMSolverMultistepScheduler\n",
        "import torch\n",
        "import imageio\n",
        "import numpy as np\n",
        "from IPython.display import HTML, Video\n",
        "from base64 import b64encode\n",
        "import os\n",
        "\n",
        "# === Configuration ===\n",
        "model_id = \"damo-vilab/text-to-video-ms-1.7b\"\n",
        "lora_path = \"checkpoints/lora_unet_2epoch.pt\"\n",
        "prompt = \"flip the pancakes over\"\n",
        "#prompt = \"bake the onions in the oven\"\n",
        "#prompt = \"place the pan back on high flame and cook the dosa\"\n",
        "num_frames = 16\n",
        "fps = 4\n",
        "out_path = f\"generated_{prompt.replace(' ', '_')}.mp4\"\n",
        "\n",
        "# === Load pre-trained pipeline ===\n",
        "pipe = DiffusionPipeline.from_pretrained(model_id, torch_dtype=torch.float16, variant=\"fp16\")\n",
        "pipe.scheduler = DPMSolverMultistepScheduler.from_config(pipe.scheduler.config)\n",
        "pipe.to(\"cuda\")\n",
        "\n",
        "# === Load fine-tuned LoRA weights ===\n",
        "lora_weights = torch.load(lora_path, map_location=\"cuda\")\n",
        "pipe.unet.load_state_dict(lora_weights, strict=False)\n",
        "\n",
        "# === Inference ===\n",
        "pipe.enable_model_cpu_offload()\n",
        "pipe.unet.eval()\n",
        "\n",
        "with torch.no_grad(), torch.autocast(\"cuda\"):\n",
        "    result = pipe(prompt=prompt, num_frames=num_frames, num_inference_steps=25)\n",
        "\n",
        "# === Process frames and convert to uint8 format ===\n",
        "frames = result.frames[0]  # shape: [T, H, W, C]\n",
        "frames = [(frame * 255).astype(np.uint8) if frame.max() <= 1 else frame.astype(np.uint8) for frame in frames]\n",
        "\n",
        "# === Save video ===\n",
        "dir_name = os.path.dirname(out_path)\n",
        "if dir_name:\n",
        "    os.makedirs(dir_name, exist_ok=True)\n",
        "\n",
        "imageio.mimsave(out_path, frames, fps=fps)\n",
        "print(f\" Video saved: {out_path}, Frames: {len(frames)}, Duration: {len(frames)/fps:.2f} seconds\")\n",
        "\n",
        "# === Preview video (in Colab or Jupyter) ===\n",
        "mp4 = open(out_path, \"rb\").read()\n",
        "data_url = \"data:video/mp4;base64,\" + b64encode(mp4).decode()\n",
        "HTML(f\"<video width=512 controls><source src='{data_url}' type='video/mp4'></video>\")\n",
        "\n"
      ],
      "metadata": {
        "id": "OHsbL85UT7zm"
      },
      "execution_count": null,
      "outputs": []
    }
  ]
}